{
 "cells": [
  {
   "cell_type": "markdown",
   "metadata": {},
   "source": [
    "# Ch `02`: Concept `05`"
   ]
  },
  {
   "cell_type": "markdown",
   "metadata": {},
   "source": [
    "## Using variables"
   ]
  },
  {
   "cell_type": "markdown",
   "metadata": {},
   "source": [
    "Here we go, here we go, here we go! Moving on from those simple examples, let's get a better understanding of variables. Start with a session:"
   ]
  },
  {
   "cell_type": "code",
   "execution_count": 7,
   "metadata": {},
   "outputs": [],
   "source": [
    "import tensorflow as tf\n",
    "sess = tf.InteractiveSession()"
   ]
  },
  {
   "cell_type": "markdown",
   "metadata": {},
   "source": [
    "Below is a series of numbers. Don't worry what they mean. Just for fun, let's think of them as neural activations."
   ]
  },
  {
   "cell_type": "code",
   "execution_count": 8,
   "metadata": {},
   "outputs": [],
   "source": [
    "raw_data = [1., 2., 8., -1., 0., 5.5, 6., 13]"
   ]
  },
  {
   "cell_type": "markdown",
   "metadata": {
    "collapsed": true
   },
   "source": [
    "Create a boolean variable called `spike` to detect a sudden increase in the values.\n",
    "\n",
    "All variables must be initialized. Go ahead and initialize the variable by calling `run()` on its `initializer`:"
   ]
  },
  {
   "cell_type": "code",
   "execution_count": 22,
   "metadata": {},
   "outputs": [
    {
     "name": "stdout",
     "output_type": "stream",
     "text": [
      "type(spike) =  <class 'tensorflow.python.ops.variables.Variable'>\n"
     ]
    }
   ],
   "source": [
    "spike = tf.Variable(False)\n",
    "spike.initializer.run()\n",
    "print('type(spike) = ', type(spike))"
   ]
  },
  {
   "cell_type": "markdown",
   "metadata": {},
   "source": [
    "Loop through the data and update the spike variable when there is a significant increase:"
   ]
  },
  {
   "cell_type": "code",
   "execution_count": 24,
   "metadata": {},
   "outputs": [
    {
     "name": "stdout",
     "output_type": "stream",
     "text": [
      "raw_data[ 1 ] - raw_data[ 0 ] =  1.0\n",
      "raw_data[i] - raw_data[i-1] > 5 is  False\n",
      "Spike False\n",
      "raw_data[ 2 ] - raw_data[ 1 ] =  6.0\n",
      "raw_data[i] - raw_data[i-1] > 5 is  True\n",
      "type(updater) =  <class 'tensorflow.python.framework.ops.Tensor'>\n",
      "tf.shape(updater) =  Tensor(\"Shape_7:0\", shape=(0,), dtype=int32)\n",
      "updater.get_shape().as_list() =  []\n",
      "updater_eval =  True\n",
      "Spike True\n",
      "raw_data[ 3 ] - raw_data[ 2 ] =  -9.0\n",
      "raw_data[i] - raw_data[i-1] > 5 is  False\n",
      "Spike False\n",
      "raw_data[ 4 ] - raw_data[ 3 ] =  1.0\n",
      "raw_data[i] - raw_data[i-1] > 5 is  False\n",
      "Spike False\n",
      "raw_data[ 5 ] - raw_data[ 4 ] =  5.5\n",
      "raw_data[i] - raw_data[i-1] > 5 is  True\n",
      "type(updater) =  <class 'tensorflow.python.framework.ops.Tensor'>\n",
      "tf.shape(updater) =  Tensor(\"Shape_8:0\", shape=(0,), dtype=int32)\n",
      "updater.get_shape().as_list() =  []\n",
      "updater_eval =  True\n",
      "Spike True\n",
      "raw_data[ 6 ] - raw_data[ 5 ] =  0.5\n",
      "raw_data[i] - raw_data[i-1] > 5 is  False\n",
      "Spike False\n",
      "raw_data[ 7 ] - raw_data[ 6 ] =  7.0\n",
      "raw_data[i] - raw_data[i-1] > 5 is  True\n",
      "type(updater) =  <class 'tensorflow.python.framework.ops.Tensor'>\n",
      "tf.shape(updater) =  Tensor(\"Shape_9:0\", shape=(0,), dtype=int32)\n",
      "updater.get_shape().as_list() =  []\n",
      "updater_eval =  True\n",
      "Spike True\n"
     ]
    }
   ],
   "source": [
    "for i in range(1, len(raw_data)):\n",
    "    print('raw_data[', i,'] - raw_data[',i-1,'] = ', raw_data[i] - raw_data[i-1])\n",
    "    print('raw_data[i] - raw_data[i-1] > 5 is ', raw_data[i] - raw_data[i-1] > 5)\n",
    "    \n",
    "    if raw_data[i] - raw_data[i-1] > 5:\n",
    "        updater = tf.assign(spike, tf.constant(True))\n",
    "        print('type(updater) = ', type(updater))\n",
    "        print('tf.shape(updater) = ', tf.shape(updater))\n",
    "        print('updater.get_shape().as_list() = ', updater.get_shape().as_list())\n",
    "        updater_eval = updater.eval()\n",
    "        print('updater_eval = ', updater_eval)\n",
    "    else:\n",
    "        tf.assign(spike, False).eval()\n",
    "    print(\"Spike\", spike.eval())"
   ]
  },
  {
   "cell_type": "markdown",
   "metadata": {},
   "source": [
    "You forgot to close the session! Here, let me do it:"
   ]
  },
  {
   "cell_type": "code",
   "execution_count": 5,
   "metadata": {},
   "outputs": [],
   "source": [
    "sess.close()"
   ]
  },
  {
   "cell_type": "code",
   "execution_count": null,
   "metadata": {},
   "outputs": [],
   "source": []
  }
 ],
 "metadata": {
  "kernelspec": {
   "display_name": "Python 3",
   "language": "python",
   "name": "python3"
  },
  "language_info": {
   "codemirror_mode": {
    "name": "ipython",
    "version": 3
   },
   "file_extension": ".py",
   "mimetype": "text/x-python",
   "name": "python",
   "nbconvert_exporter": "python",
   "pygments_lexer": "ipython3",
   "version": "3.6.3"
  }
 },
 "nbformat": 4,
 "nbformat_minor": 1
}
